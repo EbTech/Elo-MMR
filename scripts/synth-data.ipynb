{
 "cells": [
  {
   "cell_type": "code",
   "execution_count": 14,
   "metadata": {},
   "outputs": [],
   "source": [
    "import numpy as np\n",
    "\n",
    "# Draw n players from a player distribution. Each player has a certain skill with individual performance deviation\n",
    "class Gaussian:\n",
    "    def __init__(self, mu, sigma):\n",
    "        self.mu = mu\n",
    "        self.sigma = sigma\n",
    "        \n",
    "    # Draw a random value from the gaussian\n",
    "    def draw(self, size=None):\n",
    "        return np.random.normal(self.mu, self.sigma, size)\n",
    "    \n",
    "player_mu, player_sigma = 1500, 300\n",
    "consistency_mu, consistency_sigma = 100, 20\n",
    "\n",
    "player_distribution = Gaussian(player_mu, player_sigma)\n",
    "consistency_distribution = Gaussian(consistency_mu, consistency_sigma)\n",
    "\n",
    "num_players = 1000\n",
    "num_rounds = 200\n",
    "players = [Gaussian(player_distribution.draw(), consistency_distribution.draw()) for i in range(num_players)]\n",
    "\n",
    "import json\n",
    "from collections import defaultdict\n",
    "\n",
    "for r in range(num_rounds):\n",
    "    rankings = [(player.draw(), i) for i, player in enumerate(players)]\n",
    "    rankings = reversed(sorted(rankings))\n",
    "    \n",
    "    data = {}\n",
    "    data['id'] = r\n",
    "    data['name'] = \"To be filled.\"\n",
    "    data['time_seconds'] = 0\n",
    "    \n",
    "    standings = []\n",
    "    data['standings'] = standings\n",
    "    for i, rank in enumerate(rankings):\n",
    "        standings.append([str(rank[1]), i, i])\n",
    "        \n",
    "    ranking_file = open('../cache/synthetic/{}.json'.format(r), 'w')\n",
    "    json.dump(data, ranking_file)\n",
    "    ranking_file.close()"
   ]
  },
  {
   "cell_type": "code",
   "execution_count": 15,
   "metadata": {},
   "outputs": [],
   "source": [
    "contest_ids = list(range(num_rounds))\n",
    "with open('../data/synthetic/contest_ids.json', 'w') as out:\n",
    "    out.write(str(contest_ids))\n",
    "    out.close()"
   ]
  },
  {
   "cell_type": "code",
   "execution_count": null,
   "metadata": {},
   "outputs": [],
   "source": []
  }
 ],
 "metadata": {
  "kernelspec": {
   "display_name": "Python 3",
   "language": "python",
   "name": "python3"
  },
  "language_info": {
   "codemirror_mode": {
    "name": "ipython",
    "version": 3
   },
   "file_extension": ".py",
   "mimetype": "text/x-python",
   "name": "python",
   "nbconvert_exporter": "python",
   "pygments_lexer": "ipython3",
   "version": "3.7.6"
  }
 },
 "nbformat": 4,
 "nbformat_minor": 4
}
