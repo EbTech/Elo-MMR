{
 "cells": [
  {
   "cell_type": "code",
   "execution_count": 1,
   "metadata": {},
   "outputs": [
    {
     "name": "stdout",
     "output_type": "stream",
     "text": [
      "Collecting praw\n",
      "  Downloading praw-7.1.0-py3-none-any.whl (152 kB)\n",
      "Collecting websocket-client>=0.54.0\n",
      "  Downloading websocket_client-0.57.0-py2.py3-none-any.whl (200 kB)\n",
      "Collecting prawcore<2.0,>=1.3.0\n",
      "  Downloading prawcore-1.5.0-py3-none-any.whl (15 kB)\n",
      "Collecting update-checker>=0.17\n",
      "  Downloading update_checker-0.18.0-py3-none-any.whl (7.0 kB)\n",
      "Requirement already satisfied: six in c:\\users\\bb8\\anaconda3\\lib\\site-packages (from websocket-client>=0.54.0->praw) (1.14.0)\n",
      "Requirement already satisfied: requests<3.0,>=2.6.0 in c:\\users\\bb8\\anaconda3\\lib\\site-packages (from prawcore<2.0,>=1.3.0->praw) (2.18.4)\n",
      "Requirement already satisfied: idna<2.7,>=2.5 in c:\\users\\bb8\\anaconda3\\lib\\site-packages (from requests<3.0,>=2.6.0->prawcore<2.0,>=1.3.0->praw) (2.6)\n",
      "Requirement already satisfied: chardet<3.1.0,>=3.0.2 in c:\\users\\bb8\\anaconda3\\lib\\site-packages (from requests<3.0,>=2.6.0->prawcore<2.0,>=1.3.0->praw) (3.0.4)\n",
      "Requirement already satisfied: certifi>=2017.4.17 in c:\\users\\bb8\\anaconda3\\lib\\site-packages (from requests<3.0,>=2.6.0->prawcore<2.0,>=1.3.0->praw) (2019.11.28)\n",
      "Requirement already satisfied: urllib3<1.23,>=1.21.1 in c:\\users\\bb8\\anaconda3\\lib\\site-packages (from requests<3.0,>=2.6.0->prawcore<2.0,>=1.3.0->praw) (1.22)\n",
      "Installing collected packages: websocket-client, prawcore, update-checker, praw\n",
      "Successfully installed praw-7.1.0 prawcore-1.5.0 update-checker-0.18.0 websocket-client-0.57.0\n"
     ]
    }
   ],
   "source": [
    "!pip install praw"
   ]
  },
  {
   "cell_type": "code",
   "execution_count": 62,
   "metadata": {},
   "outputs": [],
   "source": [
    "%matplotlib notebook\n",
    "%matplotlib inline\n",
    "import matplotlib.pyplot as plt\n",
    "import numpy as np\n",
    "import pandas as pd"
   ]
  },
  {
   "cell_type": "code",
   "execution_count": 10,
   "metadata": {},
   "outputs": [
    {
     "name": "stdout",
     "output_type": "stream",
     "text": [
      "<--------------Number of people that think Donald Trump has dismissed FBI Director James Comey 66 64220\n",
      "MRW I get an erection, but she doesn't believe in global warming 117 17268\n",
      "So this is pretty WHOA 36 12864\n",
      "[NSFW] My SO drew this while on hold with Comcast 40 10042\n",
      "Promoter of £21m pyramid scam ordered to pay poet to live stream the inside of your dog with a pudding bowl near Cheltenham 23 8678\n",
      "If I was a LIBERAL that believed the NRA was a 12 yr old boy aspiring to be Renewed 23 7765\n",
      "We live in a picture 24 7100\n",
      "How the United States built a welfare state for the segregationist Senator William Fulbright as a Lv 9 Support Fiddlesticks 24 6362\n",
      "This ketchup package has tomato ketchup written in an account called u/undefined which has just hatched after 18 days of rain, my fence has legs, but only regular XL in Brazil 29 5882\n",
      "I don't like having to explain it to Me.'\" -Matthew 25:40 45 5467\n"
     ]
    }
   ],
   "source": [
    "import praw\n",
    "\n",
    "reddit = praw.Reddit(\n",
    "    client_id=\"8MguWY6Vv2iwDw\",  \n",
    "    client_secret=\"GyXPBkZaNZn1GT8o_K3lNXqx8mU\",\n",
    "    user_agent=\"Chrome:EloR Miner:v0.1 (by u/inutard)\")\n",
    "\n",
    "# From a glance at the daily top threads, gaming seems to be most popular\n",
    "# We'll mine from a specific subreddit to make sure theres some overlap in the user base\n",
    "thread_scores = []\n",
    "subreddit_name = \"SubredditSimulator\"\n",
    "# Each thread of O(1000) comments takes about 3min to process\n",
    "count = 0\n",
    "for submission in reddit.subreddit(\"SubredditSimulator\").top(limit=5000):\n",
    "    if count % 100 == 0:\n",
    "        print(submission.title, submission.num_comments, submission.score)\n",
    "    count += 1\n",
    "    submission.comments.replace_more(limit=None)\n",
    "    scores = []\n",
    "    for comment in submission.comments:\n",
    "        try:\n",
    "            scores.append((comment.score, comment.author.name))\n",
    "        except:\n",
    "            # Likely deleted comments\n",
    "            pass\n",
    "    thread_scores.append(scores)"
   ]
  },
  {
   "cell_type": "code",
   "execution_count": 12,
   "metadata": {},
   "outputs": [
    {
     "data": {
      "text/plain": [
       "[(3421, 'AskHistorians_SS'),\n",
       " (1151, 'JusticePorn_SS'),\n",
       " (522, 'Christianity_SS'),\n",
       " (318, 'TotesMessenger'),\n",
       " (104, 'hearthstone_SS'),\n",
       " (43, 'hiphopheads_SS'),\n",
       " (39, 'funny_SS'),\n",
       " (30, 'boardgames_SS'),\n",
       " (-7, 'EarthPorn_SS'),\n",
       " (-17, 'CasualConversationSS')]"
      ]
     },
     "execution_count": 12,
     "metadata": {},
     "output_type": "execute_result"
    }
   ],
   "source": [
    "thread_scores[0]"
   ]
  },
  {
   "cell_type": "code",
   "execution_count": 13,
   "metadata": {},
   "outputs": [
    {
     "data": {
      "text/plain": [
       "275"
      ]
     },
     "execution_count": 13,
     "metadata": {},
     "output_type": "execute_result"
    }
   ],
   "source": [
    "# Total number of unique comments\n",
    "len(set(s[1] for score in thread_scores for s in score))"
   ]
  },
  {
   "cell_type": "code",
   "execution_count": 14,
   "metadata": {},
   "outputs": [
    {
     "data": {
      "text/plain": [
       "[('TotesMessenger', 642),\n",
       " ('baseball_SS', 70),\n",
       " ('uwotm8_SS', 65),\n",
       " ('Justrolledinshop_SS', 64),\n",
       " ('Military_SS', 64),\n",
       " ('MMA_SS', 61),\n",
       " ('JusticePorn_SS', 59),\n",
       " ('france_SS', 59),\n",
       " ('Libertarian_SS', 59),\n",
       " ('ProtectAndServe_SS', 59),\n",
       " ('offmychest_SS', 59),\n",
       " ('raisedbynarcissistSS', 58),\n",
       " ('MensRights_SS', 58),\n",
       " ('creepyPMs_SS', 58),\n",
       " ('confession_SS', 58),\n",
       " ('dogs_SS', 58),\n",
       " ('TalesFromRetail_SS', 57),\n",
       " ('reactiongifs_SS', 57),\n",
       " ('OutOfTheLoop_SS', 57),\n",
       " ('zen_SS', 57),\n",
       " ('technology_SS', 57),\n",
       " ('seduction_SS', 56),\n",
       " ('Eve_SS', 56),\n",
       " ('malefashionadvice_SS', 56),\n",
       " ('AskReddit_SS', 56),\n",
       " ('news_SS', 55),\n",
       " ('dataisbeautiful_SS', 55),\n",
       " ('teenagers_SS', 55),\n",
       " ('me_irl-SS', 55),\n",
       " ('LetsNotMeet-SS', 55),\n",
       " ('de_SS', 54),\n",
       " ('trashy-SS', 54),\n",
       " ('relationships_SS', 54),\n",
       " ('Games_SS', 53),\n",
       " ('DnD_SS', 53),\n",
       " ('KerbalSpaceProgramSS', 53),\n",
       " ('AdviceAnimals_SS', 53),\n",
       " ('photoshopbattles-SS', 53),\n",
       " ('explainlikeimfive_SS', 53),\n",
       " ('woahdude_SS', 53),\n",
       " ('hearthstone_SS', 52),\n",
       " ('gifs_SS', 52),\n",
       " ('badphilosophy_SS', 52),\n",
       " ('shittyfoodporn_SS', 52),\n",
       " ('indieheads_SS', 52),\n",
       " ('Futurology_SS', 52),\n",
       " ('electronic_cig_SS', 52),\n",
       " ('circlejerk_SS', 52),\n",
       " ('personalfinance_SS', 52),\n",
       " ('Christianity_SS', 51)]"
      ]
     },
     "execution_count": 14,
     "metadata": {},
     "output_type": "execute_result"
    }
   ],
   "source": [
    "# Frequencies of top posters\n",
    "from collections import Counter\n",
    "C = Counter(list(s[1] for score in thread_scores for s in score))\n",
    "C.most_common(50)"
   ]
  },
  {
   "cell_type": "code",
   "execution_count": 15,
   "metadata": {},
   "outputs": [
    {
     "data": {
      "text/plain": [
       "13062"
      ]
     },
     "execution_count": 15,
     "metadata": {},
     "output_type": "execute_result"
    }
   ],
   "source": [
    "# Total number of comments\n",
    "sum(len(s) for s in thread_scores)"
   ]
  },
  {
   "cell_type": "code",
   "execution_count": 16,
   "metadata": {},
   "outputs": [
    {
     "data": {
      "text/plain": [
       "[(3421, 'AskHistorians_SS'),\n",
       " (1151, 'JusticePorn_SS'),\n",
       " (522, 'Christianity_SS'),\n",
       " (318, 'TotesMessenger'),\n",
       " (104, 'hearthstone_SS'),\n",
       " (43, 'hiphopheads_SS'),\n",
       " (39, 'funny_SS'),\n",
       " (30, 'boardgames_SS'),\n",
       " (-7, 'EarthPorn_SS'),\n",
       " (-17, 'CasualConversationSS')]"
      ]
     },
     "execution_count": 16,
     "metadata": {},
     "output_type": "execute_result"
    }
   ],
   "source": [
    "thread_scores[0]"
   ]
  },
  {
   "cell_type": "code",
   "execution_count": 36,
   "metadata": {},
   "outputs": [],
   "source": [
    "import json\n",
    "from collections import defaultdict\n",
    "\n",
    "for tid, thread in enumerate(thread_scores):\n",
    "    data = {}\n",
    "    data['id'] = tid\n",
    "    data['name'] = \"To be filled.\"\n",
    "    data['time_seconds'] = 0\n",
    "    \n",
    "    standings = []\n",
    "    data['standings'] = standings\n",
    "    \n",
    "    names = set()\n",
    "    # Remove duplicate comments by consolidating votes\n",
    "    together = defaultdict(int)\n",
    "    for user in thread:\n",
    "        together[user[1]] += user[0]\n",
    "    thread = [(x[1], x[0]) for x in together.items()]\n",
    "    \n",
    "    thread = sorted(thread, reverse=True)\n",
    "    # Use -1 as placeholder value\n",
    "    lscore, lo, hi = -1, -1, -1\n",
    "    backlog = []\n",
    "    for user in thread:\n",
    "        if user[0] != lscore:\n",
    "            for name in backlog:\n",
    "                standings.append([name, lo, hi])\n",
    "            lo = hi = hi + 1\n",
    "            backlog = []\n",
    "        else:\n",
    "            hi += 1\n",
    "        backlog.append(user[1])\n",
    "        lscore = user[0]\n",
    "        \n",
    "    for name in backlog:\n",
    "        standings.append([name, lo, hi])\n",
    "    \n",
    "    with open('../cache/reddit/' + str(tid) + '.json', 'w') as out:\n",
    "        json.dump(data, out)"
   ]
  },
  {
   "cell_type": "code",
   "execution_count": 33,
   "metadata": {},
   "outputs": [],
   "source": [
    "contest_ids = list(range(len(thread_scores)))\n",
    "with open('../data/reddit/contest_ids.json', 'w') as out:\n",
    "    out.write(str(contest_ids))"
   ]
  },
  {
   "cell_type": "code",
   "execution_count": 39,
   "metadata": {},
   "outputs": [],
   "source": [
    "usernames = set(data[1] for thread in thread_scores for data in thread)"
   ]
  },
  {
   "cell_type": "code",
   "execution_count": 55,
   "metadata": {},
   "outputs": [],
   "source": [
    "karmalist = []\n",
    "for name in usernames:\n",
    "    user = reddit.redditor(name)\n",
    "    karmalist.append((user.comment_karma, user.name))\n",
    "    \n",
    "karmalist = sorted(karmalist, reverse=True)"
   ]
  },
  {
   "cell_type": "code",
   "execution_count": 51,
   "metadata": {},
   "outputs": [],
   "source": [
    "with open('../data/reddit/true_rankings.json', 'w') as out:\n",
    "    out.write(str(karmalist))"
   ]
  },
  {
   "cell_type": "code",
   "execution_count": 76,
   "metadata": {},
   "outputs": [
    {
     "data": {
      "image/png": "[encoded data removed]",
      "text/plain": [
       "<Figure size 900x600 with 1 Axes>"
      ]
     },
     "metadata": {
      "needs_background": "light"
     },
     "output_type": "display_data"
    }
   ],
   "source": [
    "import matplotlib as mpl\n",
    "mpl.rcParams['figure.dpi'] = 150\n",
    "\n",
    "with open('../data/reddit/predicted_rankings.txt') as pfile:\n",
    "    plines = pfile.readlines()[12:]\n",
    "    joined_data = defaultdict(list)\n",
    "    for data in karmalist:\n",
    "        joined_data[data[1]].append(data[0])\n",
    "    for line in plines:\n",
    "        tokens = line.split()\n",
    "        rating = int(tokens[1].split('(')[0])\n",
    "        name = tokens[2]\n",
    "        joined_data[name].append(rating)\n",
    "        \n",
    "    # Basically we can delete any users that do not end in SS\n",
    "    for user in usernames:\n",
    "        if 'SS' != user[-2:]:\n",
    "            del joined_data[user]\n",
    "        \n",
    "    x, y = zip(*list(joined_data.values()))\n",
    "    plt.scatter(x, y, s=10)"
   ]
  }
 ],
 "metadata": {
  "kernelspec": {
   "display_name": "Python 3",
   "language": "python",
   "name": "python3"
  },
  "language_info": {
   "codemirror_mode": {
    "name": "ipython",
    "version": 3
   },
   "file_extension": ".py",
   "mimetype": "text/x-python",
   "name": "python",
   "nbconvert_exporter": "python",
   "pygments_lexer": "ipython3",
   "version": "3.7.6"
  }
 },
 "nbformat": 4,
 "nbformat_minor": 4
}
